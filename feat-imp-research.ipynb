{
 "cells": [
  {
   "attachments": {},
   "cell_type": "markdown",
   "metadata": {},
   "source": [
    "Exploring a dataset with information about patients. \n",
    "Consider next 8 features to predict the mortality rate:\n",
    "1. Age\n",
    "2. ОССН KiLLip\n",
    "3. HBR (b)\n",
    "4. Systolic AP(b)\n",
    "5. Creatine in blood\n",
    "6. EF Percentage\n",
    "7. White blood cells count\n",
    "8. Glucose"
   ]
  },
  {
   "attachments": {},
   "cell_type": "markdown",
   "metadata": {},
   "source": [
    "1. Import required libraries and load the dataset"
   ]
  },
  {
   "cell_type": "code",
   "execution_count": null,
   "metadata": {},
   "outputs": [],
   "source": [
    "import numpy as np\n",
    "import pandas as pd\n",
    "import matplotlib.pyplot as plt\n",
    "import seaborn as sns\n",
    "\n",
    "from sklearn.model_selection import KFold, train_test_split\n",
    "from sklearn.preprocessing import StandardScaler\n",
    "from sklearn.impute import SimpleImputer\n",
    "from sklearn.pipeline import Pipeline\n",
    "from sklearn.linear_model import LinearRegression\n",
    "from sklearn.ensemble import RandomForestRegressor, GradientBoostingRegressor\n",
    "from sklearn.metrics import mean_squared_error\n",
    "from sklearn.inspection import permutation_importance\n",
    "\n",
    "import shap\n",
    "\n",
    "import tensorflow as tf\n",
    "from tensorflow.keras.models import Sequential\n",
    "from tensorflow.keras.layers import Dense, Dropout\n",
    "from tensorflow.keras.optimizers import Adam\n",
    "from tensorflow.keras.regularizers import L1L2\n",
    "from tensorflow.keras.callbacks import EarlyStopping\n",
    "\n",
    "# Load dataset\n",
    "data = pd.read_excel('./import/DataSet_V47.xlsx')\n",
    "X = data.drop(columns='mortality_rate')\n",
    "y = data['mortality_rate']"
   ]
  },
  {
   "attachments": {},
   "cell_type": "markdown",
   "metadata": {},
   "source": [
    "2. Split the dataset into train, fit, and test sets"
   ]
  },
  {
   "cell_type": "code",
   "execution_count": null,
   "metadata": {},
   "outputs": [],
   "source": [
    "X_train, X_temp, y_train, y_temp = train_test_split(X, y, test_size=0.4, random_state=42)\n",
    "X_fit, X_test, y_fit, y_test = train_test_split(X_temp, y_temp, test_size=0.5, random_state=42)\n"
   ]
  },
  {
   "attachments": {},
   "cell_type": "markdown",
   "metadata": {},
   "source": [
    "3. Data preprocessing pipeline"
   ]
  },
  {
   "cell_type": "code",
   "execution_count": null,
   "metadata": {},
   "outputs": [],
   "source": [
    "preprocessor = Pipeline([\n",
    "    ('imputer', SimpleImputer(strategy='mean')),\n",
    "    ('scaler', StandardScaler())\n",
    "])\n",
    "\n",
    "preprocessor.fit(X_train)\n",
    "\n",
    "X_train_preprocessed = preprocessor.transform(X_train)\n",
    "X_fit_preprocessed = preprocessor.transform(X_fit)\n",
    "X_test_preprocessed = preprocessor.transform(X_test)"
   ]
  },
  {
   "attachments": {},
   "cell_type": "markdown",
   "metadata": {},
   "source": [
    "4. Linear Regression models (Univariative and Multivariate)"
   ]
  },
  {
   "cell_type": "code",
   "execution_count": null,
   "metadata": {},
   "outputs": [],
   "source": [
    "# Univariative Linear Regression\n",
    "for feature_name in X.columns:\n",
    "    lr = LinearRegression()\n",
    "    lr.fit(X_train_preprocessed[:, [X.columns.get_loc(feature_name)]], y_train)\n",
    "    \n",
    "    # Feature weight estimation\n",
    "    print(f\"Feature weight for {feature_name}: {lr.coef_[0]}\")\n",
    "\n",
    "# Multivariate Linear Regression\n",
    "lr_multi = LinearRegression()\n",
    "lr_multi.fit(X_train_preprocessed, y_train)\n",
    "\n",
    "# Feature weight estimation\n",
    "for feature_name, weight in zip(X.columns, lr_multi.coef_):\n",
    "    print(f\"Feature weight for {feature_name}: {weight}\")\n",
    "\n",
    "# Shapley values for Multivariate Linear Regression\n",
    "explainer = shap.Explainer(lr_multi, X_train_preprocessed, feature_names=X.columns)\n",
    "shap_values = explainer(X_fit_preprocessed)\n",
    "shap.summary_plot(shap_values, X_fit, plot_type='bar')\n",
    "plt.title('Shapley Values for Multivariate Linear Regression')\n",
    "plt.show()\n"
   ]
  },
  {
   "attachments": {},
   "cell_type": "markdown",
   "metadata": {},
   "source": [
    "5. Gradient Boosting model"
   ]
  },
  {
   "cell_type": "code",
   "execution_count": null,
   "metadata": {},
   "outputs": [],
   "source": [
    "gb = GradientBoostingRegressor(random_state=42)\n",
    "gb.fit(X_train_preprocessed, y_train)\n",
    "\n",
    "# Feature importance via impurity\n",
    "feature_importances_gb = gb.feature_importances_\n",
    "\n",
    "# Permutation importance\n",
    "result_gb = permutation_importance(gb, X_fit_preprocessed, y_fit, n_repeats=10, random_state=42)\n",
    "perm_importances_gb = result_gb.importances_mean\n",
    "\n",
    "# Shapley values for Gradient Boosting\n",
    "explainer = shap.Explainer(gb, X_train_preprocessed, feature_names=X.columns)\n",
    "shap_values = explainer(X_fit_preprocessed)\n",
    "shap.summary_plot(shap_values, X_fit, plot_type='bar')\n",
    "plt.title('Shapley Values for Gradient Boosting')\n",
    "plt.show()"
   ]
  },
  {
   "attachments": {},
   "cell_type": "markdown",
   "metadata": {},
   "source": [
    "6. Random Forest model"
   ]
  },
  {
   "cell_type": "code",
   "execution_count": null,
   "metadata": {},
   "outputs": [],
   "source": [
    "rf = RandomForestRegressor(random_state=42)\n",
    "rf.fit(X_train_preprocessed, y_train)\n",
    "\n",
    "# Feature importance via impurity\n",
    "feature_importances_rf = rf.feature_importances_\n",
    "\n",
    "# Permutation importance\n",
    "result_rf = permutation_importance(rf, X_fit_preprocessed, y_fit, n_repeats=10, random_state=42)\n",
    "perm_importances_rf = result_rf.importances_mean\n",
    "\n",
    "# Shapley values for Random Forest\n",
    "explainer = shap.Explainer(rf, X_train_preprocessed, feature_names=X.columns)\n",
    "shap_values = explainer(X_fit_preprocessed)\n",
    "shap.summary_plot(shap_values, X_fit, plot_type='bar')\n",
    "plt.title('Shapley Values for Random Forest')\n",
    "plt.show()"
   ]
  },
  {
   "attachments": {},
   "cell_type": "markdown",
   "metadata": {},
   "source": [
    "7. Deep Neural Network model"
   ]
  },
  {
   "cell_type": "code",
   "execution_count": null,
   "metadata": {},
   "outputs": [],
   "source": [
    "def create_dnn(input_shape, num_layers, units_per_layer, l1_l2_reg, dropout_rate):\n",
    "    model = Sequential()\n",
    "    model.add(Dense(units_per_layer, input_shape=input_shape, activation='relu', kernel_regularizer=L1L2(*l1_l2_reg)))\n",
    "    model.add(Dropout(dropout_rate))\n",
    "\n",
    "    for _ in range(num_layers - 1):\n",
    "        model.add(Dense(units_per_layer, activation='relu', kernel_regularizer=L1L2(*l1_l2_reg)))\n",
    "        model.add(Dropout(dropout_rate))\n",
    "\n",
    "    model.add(Dense(1, activation='linear'))\n",
    "    model.compile(optimizer=Adam(learning_rate=0.001), loss='mean_squared_error')\n",
    "    return model\n",
    "\n",
    "def dnn_cross_val_score(X, y, num_layers, units_per_layer, l1_l2_reg, dropout_rate, n_splits=5):\n",
    "    kfold = KFold(n_splits=n_splits, shuffle=True, random_state=42)\n",
    "    scores = []\n",
    "\n",
    "    for train_index, val_index in kfold.split(X, y):\n",
    "        X_train, X_val = X[train_index], X[val_index]\n",
    "        y_train, y_val = y[train_index], y[val_index]\n",
    "\n",
    "        preprocessor.fit(X_train)\n",
    "        X_train_preprocessed = preprocessor.transform(X_train)\n",
    "        X_val_preprocessed = preprocessor.transform(X_val)\n",
    "\n",
    "        dnn = create_dnn((X_train_preprocessed.shape[1],), num_layers, units_per_layer, l1_l2_reg, dropout_rate)\n",
    "        \n",
    "        early_stopping = EarlyStopping(monitor='val_loss', patience=10, restore_best_weights=True)\n",
    "\n",
    "        dnn.fit(X_train_preprocessed, \n",
    "                y_train, \n",
    "                validation_data=(X_val_preprocessed, y_val), \n",
    "                epochs=100, \n",
    "                batch_size=32, \n",
    "                verbose=0, \n",
    "                callbacks=[early_stopping]\n",
    "                )\n",
    "\n",
    "        score = dnn.evaluate(X_val_preprocessed, y_val, verbose=0)\n",
    "        scores.append(score)\n",
    "\n",
    "    return np.mean(scores)\n",
    "\n",
    "num_layers = 2\n",
    "units_per_layer = 64\n",
    "l1_l2_reg = (1e-5, 1e-5)\n",
    "dropout_rate = 0.2\n",
    "mean_score = dnn_cross_val_score(X, y, num_layers, units_per_layer, l1_l2_reg, dropout_rate)\n",
    "print(f\"Mean score for {num_layers} layers, {units_per_layer} units per layer, L1/L2 reg = {l1_l2_reg}, dropout rate = {dropout_rate}: {mean_score}\")"
   ]
  },
  {
   "cell_type": "code",
   "execution_count": null,
   "metadata": {},
   "outputs": [],
   "source": [
    "dnn = create_dnn((X_train_preprocessed.shape[1],), num_layers, units_per_layer, l1_l2_reg, dropout_rate)\n",
    "early_stopping = EarlyStopping(monitor='val_loss', patience=10, restore_best_weights=True)\n",
    "dnn.fit(X_train_preprocessed, y_train, validation_data=(X_fit_preprocessed, y_fit), epochs=100, batch_size=32, callbacks=[early_stopping])\n",
    "\n",
    "# Shapley values for Deep Neural Network\n",
    "explainer = shap.Explainer(dnn, X_train_preprocessed, feature_names=X.columns)\n",
    "shap_values = explainer(X_fit_preprocessed)\n",
    "shap.summary_plot(shap_values, X_fit, plot_type='bar')\n",
    "plt.title('Shapley Values for Deep Neural Network')\n",
    "plt.show()"
   ]
  },
  {
   "attachments": {},
   "cell_type": "markdown",
   "metadata": {},
   "source": [
    "8. Comparison of feature importances"
   ]
  },
  {
   "cell_type": "code",
   "execution_count": null,
   "metadata": {},
   "outputs": [],
   "source": [
    "feature_importance_df = pd.DataFrame({'Feature': X.columns,\n",
    "                                      'Multivariate Linear Regression': lr_multi.coef_,\n",
    "                                      'Gradient Boosting (impurity)': feature_importances_gb,\n",
    "                                      'Gradient Boosting (permutation)': perm_importances_gb,\n",
    "                                      'Random Forest (impurity)': feature_importances_rf,\n",
    "                                      'Random Forest (permutation)': perm_importances_rf})\n",
    "\n",
    "feature_importance_df.set_index('Feature', inplace=True)\n",
    "feature_importance_df.plot(kind='bar', figsize=(12, 6))\n",
    "plt.title('Feature Importances for Different Models')\n",
    "plt.ylabel('Importance')\n",
    "plt.xticks(rotation=45)\n",
    "plt.show()"
   ]
  }
 ],
 "metadata": {
  "kernelspec": {
   "display_name": "shap-p3.10.10",
   "language": "python",
   "name": "python3"
  },
  "language_info": {
   "codemirror_mode": {
    "name": "ipython",
    "version": 3
   },
   "file_extension": ".py",
   "mimetype": "text/x-python",
   "name": "python",
   "nbconvert_exporter": "python",
   "pygments_lexer": "ipython3",
   "version": "3.8.16"
  },
  "orig_nbformat": 4
 },
 "nbformat": 4,
 "nbformat_minor": 2
}
