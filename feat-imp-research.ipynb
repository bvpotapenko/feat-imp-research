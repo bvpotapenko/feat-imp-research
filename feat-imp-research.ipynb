{
 "cells": [
  {
   "attachments": {},
   "cell_type": "markdown",
   "metadata": {},
   "source": [
    "Exploring a dataset with information about patients. \n",
    "Consider next 8 features to predict the mortality rate:\n",
    "1. Age\n",
    "2. ОССН KiLLip\n",
    "3. HBR (b)\n",
    "4. Systolic AP(b)\n",
    "5. Creatine in blood\n",
    "6. EF Percentage\n",
    "7. White blood cells count\n",
    "8. Glucose"
   ]
  },
  {
   "attachments": {},
   "cell_type": "markdown",
   "metadata": {},
   "source": [
    "1. Import required libraries and load the dataset"
   ]
  },
  {
   "cell_type": "code",
   "execution_count": 17,
   "metadata": {},
   "outputs": [],
   "source": [
    "import numpy as np\n",
    "import pandas as pd\n",
    "import matplotlib.pyplot as plt\n",
    "import seaborn as sns\n",
    "\n",
    "from sklearn.model_selection import KFold, train_test_split\n",
    "from sklearn.preprocessing import StandardScaler\n",
    "from sklearn.impute import SimpleImputer\n",
    "from sklearn.pipeline import Pipeline\n",
    "from sklearn.linear_model import LinearRegression\n",
    "from sklearn.ensemble import RandomForestRegressor, GradientBoostingRegressor\n",
    "from sklearn.metrics import mean_squared_error\n",
    "from sklearn.inspection import permutation_importance\n",
    "\n",
    "import shap\n",
    "\n",
    "import tensorflow as tf\n",
    "from tensorflow.keras.models import Sequential\n",
    "from tensorflow.keras.layers import Dense, Dropout\n",
    "from tensorflow.keras.optimizers import Adam\n",
    "from tensorflow.keras.regularizers import L1L2\n",
    "from tensorflow.keras.callbacks import EarlyStopping\n",
    "from IPython.display import display\n",
    "\n",
    "# Load dataset\n",
    "# data = pd.read_excel('./import/DataSet_V47.xlsx')\n",
    "data = pd.read_csv('./import/subset13columns.csv')"
   ]
  },
  {
   "attachments": {},
   "cell_type": "markdown",
   "metadata": {},
   "source": [
    "1.1. Select features"
   ]
  },
  {
   "cell_type": "code",
   "execution_count": 54,
   "metadata": {},
   "outputs": [
    {
     "data": {
      "text/html": [
       "<div>\n",
       "<style scoped>\n",
       "    .dataframe tbody tr th:only-of-type {\n",
       "        vertical-align: middle;\n",
       "    }\n",
       "\n",
       "    .dataframe tbody tr th {\n",
       "        vertical-align: top;\n",
       "    }\n",
       "\n",
       "    .dataframe thead th {\n",
       "        text-align: right;\n",
       "    }\n",
       "</style>\n",
       "<table border=\"1\" class=\"dataframe\">\n",
       "  <thead>\n",
       "    <tr style=\"text-align: right;\">\n",
       "      <th></th>\n",
       "      <th>Unnamed: 0</th>\n",
       "      <th>Age</th>\n",
       "      <th>ОССН KiLLip</th>\n",
       "      <th>ЧСС (b)</th>\n",
       "      <th>Систолическое АД(b)</th>\n",
       "      <th>Креатинин</th>\n",
       "      <th>EF%</th>\n",
       "      <th>Лейкоциты(b)</th>\n",
       "      <th>Глюкоза(a)</th>\n",
       "    </tr>\n",
       "  </thead>\n",
       "  <tbody>\n",
       "    <tr>\n",
       "      <th>count</th>\n",
       "      <td>12538.000000</td>\n",
       "      <td>12510.000000</td>\n",
       "      <td>11622.000000</td>\n",
       "      <td>11870.000000</td>\n",
       "      <td>11783.000000</td>\n",
       "      <td>11441.000000</td>\n",
       "      <td>9314.000000</td>\n",
       "      <td>7472.000000</td>\n",
       "      <td>9195.000000</td>\n",
       "    </tr>\n",
       "    <tr>\n",
       "      <th>mean</th>\n",
       "      <td>6268.500000</td>\n",
       "      <td>62.657714</td>\n",
       "      <td>1.378506</td>\n",
       "      <td>71.996504</td>\n",
       "      <td>134.418909</td>\n",
       "      <td>106.250302</td>\n",
       "      <td>56.464784</td>\n",
       "      <td>10.122987</td>\n",
       "      <td>6.550492</td>\n",
       "    </tr>\n",
       "    <tr>\n",
       "      <th>std</th>\n",
       "      <td>3619.553172</td>\n",
       "      <td>10.925874</td>\n",
       "      <td>0.963044</td>\n",
       "      <td>19.794550</td>\n",
       "      <td>122.307101</td>\n",
       "      <td>53.376197</td>\n",
       "      <td>9.043406</td>\n",
       "      <td>4.001209</td>\n",
       "      <td>3.040381</td>\n",
       "    </tr>\n",
       "    <tr>\n",
       "      <th>min</th>\n",
       "      <td>0.000000</td>\n",
       "      <td>17.000000</td>\n",
       "      <td>0.000000</td>\n",
       "      <td>-1.000000</td>\n",
       "      <td>-1.000000</td>\n",
       "      <td>0.000000</td>\n",
       "      <td>10.000000</td>\n",
       "      <td>0.000000</td>\n",
       "      <td>0.000000</td>\n",
       "    </tr>\n",
       "    <tr>\n",
       "      <th>25%</th>\n",
       "      <td>3134.250000</td>\n",
       "      <td>56.000000</td>\n",
       "      <td>1.000000</td>\n",
       "      <td>64.000000</td>\n",
       "      <td>120.000000</td>\n",
       "      <td>83.000000</td>\n",
       "      <td>50.000000</td>\n",
       "      <td>7.300000</td>\n",
       "      <td>5.080000</td>\n",
       "    </tr>\n",
       "    <tr>\n",
       "      <th>50%</th>\n",
       "      <td>6268.500000</td>\n",
       "      <td>63.000000</td>\n",
       "      <td>1.000000</td>\n",
       "      <td>70.000000</td>\n",
       "      <td>130.000000</td>\n",
       "      <td>98.210000</td>\n",
       "      <td>58.000000</td>\n",
       "      <td>9.400000</td>\n",
       "      <td>5.790000</td>\n",
       "    </tr>\n",
       "    <tr>\n",
       "      <th>75%</th>\n",
       "      <td>9402.750000</td>\n",
       "      <td>70.000000</td>\n",
       "      <td>2.000000</td>\n",
       "      <td>80.000000</td>\n",
       "      <td>150.000000</td>\n",
       "      <td>116.000000</td>\n",
       "      <td>63.000000</td>\n",
       "      <td>12.100000</td>\n",
       "      <td>6.995000</td>\n",
       "    </tr>\n",
       "    <tr>\n",
       "      <th>max</th>\n",
       "      <td>12537.000000</td>\n",
       "      <td>95.000000</td>\n",
       "      <td>4.000000</td>\n",
       "      <td>900.000000</td>\n",
       "      <td>13000.000000</td>\n",
       "      <td>1354.000000</td>\n",
       "      <td>97.000000</td>\n",
       "      <td>43.100000</td>\n",
       "      <td>116.530000</td>\n",
       "    </tr>\n",
       "  </tbody>\n",
       "</table>\n",
       "</div>"
      ],
      "text/plain": [
       "         Unnamed: 0           Age   ОССН KiLLip       ЧСС (b)  \\\n",
       "count  12538.000000  12510.000000  11622.000000  11870.000000   \n",
       "mean    6268.500000     62.657714      1.378506     71.996504   \n",
       "std     3619.553172     10.925874      0.963044     19.794550   \n",
       "min        0.000000     17.000000      0.000000     -1.000000   \n",
       "25%     3134.250000     56.000000      1.000000     64.000000   \n",
       "50%     6268.500000     63.000000      1.000000     70.000000   \n",
       "75%     9402.750000     70.000000      2.000000     80.000000   \n",
       "max    12537.000000     95.000000      4.000000    900.000000   \n",
       "\n",
       "       Систолическое АД(b)     Креатинин          EF%  Лейкоциты(b)  \\\n",
       "count         11783.000000  11441.000000  9314.000000   7472.000000   \n",
       "mean            134.418909    106.250302    56.464784     10.122987   \n",
       "std             122.307101     53.376197     9.043406      4.001209   \n",
       "min              -1.000000      0.000000    10.000000      0.000000   \n",
       "25%             120.000000     83.000000    50.000000      7.300000   \n",
       "50%             130.000000     98.210000    58.000000      9.400000   \n",
       "75%             150.000000    116.000000    63.000000     12.100000   \n",
       "max           13000.000000   1354.000000    97.000000     43.100000   \n",
       "\n",
       "        Глюкоза(a)  \n",
       "count  9195.000000  \n",
       "mean      6.550492  \n",
       "std       3.040381  \n",
       "min       0.000000  \n",
       "25%       5.080000  \n",
       "50%       5.790000  \n",
       "75%       6.995000  \n",
       "max     116.530000  "
      ]
     },
     "metadata": {},
     "output_type": "display_data"
    },
    {
     "data": {
      "text/plain": [
       "Unnamed: 0                 0\n",
       "Age                       28\n",
       "ОССН KiLLip              916\n",
       "ЧСС (b)                  668\n",
       "Систолическое АД(b)      755\n",
       "Креатинин               1097\n",
       "EF%                     3224\n",
       "Лейкоциты(b)            5066\n",
       "Глюкоза(a)              3343\n",
       "начало операции         4566\n",
       "Дата операции в БД      2329\n",
       "дата выписки            3487\n",
       "дата смерти            12053\n",
       "Исход заболевания        926\n",
       "dtype: int64"
      ]
     },
     "metadata": {},
     "output_type": "display_data"
    },
    {
     "data": {
      "text/html": [
       "<div>\n",
       "<style scoped>\n",
       "    .dataframe tbody tr th:only-of-type {\n",
       "        vertical-align: middle;\n",
       "    }\n",
       "\n",
       "    .dataframe tbody tr th {\n",
       "        vertical-align: top;\n",
       "    }\n",
       "\n",
       "    .dataframe thead th {\n",
       "        text-align: right;\n",
       "    }\n",
       "</style>\n",
       "<table border=\"1\" class=\"dataframe\">\n",
       "  <thead>\n",
       "    <tr style=\"text-align: right;\">\n",
       "      <th></th>\n",
       "      <th>Unnamed: 0</th>\n",
       "      <th>Age</th>\n",
       "      <th>ОССН KiLLip</th>\n",
       "      <th>ЧСС (b)</th>\n",
       "      <th>Систолическое АД(b)</th>\n",
       "      <th>Креатинин</th>\n",
       "      <th>EF%</th>\n",
       "      <th>Лейкоциты(b)</th>\n",
       "      <th>Глюкоза(a)</th>\n",
       "    </tr>\n",
       "  </thead>\n",
       "  <tbody>\n",
       "    <tr>\n",
       "      <th>count</th>\n",
       "      <td>6000.000000</td>\n",
       "      <td>6000.000000</td>\n",
       "      <td>6000.000000</td>\n",
       "      <td>6000.000000</td>\n",
       "      <td>6000.000000</td>\n",
       "      <td>6000.000000</td>\n",
       "      <td>6000.000000</td>\n",
       "      <td>6000.000000</td>\n",
       "      <td>6000.000000</td>\n",
       "    </tr>\n",
       "    <tr>\n",
       "      <th>mean</th>\n",
       "      <td>6247.245167</td>\n",
       "      <td>62.735167</td>\n",
       "      <td>1.498833</td>\n",
       "      <td>72.854583</td>\n",
       "      <td>136.029167</td>\n",
       "      <td>106.798890</td>\n",
       "      <td>56.171667</td>\n",
       "      <td>10.349603</td>\n",
       "      <td>6.514468</td>\n",
       "    </tr>\n",
       "    <tr>\n",
       "      <th>std</th>\n",
       "      <td>3601.724044</td>\n",
       "      <td>10.498273</td>\n",
       "      <td>0.896920</td>\n",
       "      <td>16.328817</td>\n",
       "      <td>168.079058</td>\n",
       "      <td>53.768507</td>\n",
       "      <td>8.958120</td>\n",
       "      <td>3.946659</td>\n",
       "      <td>3.178992</td>\n",
       "    </tr>\n",
       "    <tr>\n",
       "      <th>min</th>\n",
       "      <td>2.000000</td>\n",
       "      <td>21.000000</td>\n",
       "      <td>0.000000</td>\n",
       "      <td>-1.000000</td>\n",
       "      <td>-1.000000</td>\n",
       "      <td>0.000000</td>\n",
       "      <td>18.000000</td>\n",
       "      <td>0.000000</td>\n",
       "      <td>0.000000</td>\n",
       "    </tr>\n",
       "    <tr>\n",
       "      <th>25%</th>\n",
       "      <td>3107.500000</td>\n",
       "      <td>56.000000</td>\n",
       "      <td>1.000000</td>\n",
       "      <td>65.000000</td>\n",
       "      <td>120.000000</td>\n",
       "      <td>83.700000</td>\n",
       "      <td>50.000000</td>\n",
       "      <td>7.515000</td>\n",
       "      <td>5.060000</td>\n",
       "    </tr>\n",
       "    <tr>\n",
       "      <th>50%</th>\n",
       "      <td>6229.000000</td>\n",
       "      <td>63.000000</td>\n",
       "      <td>1.000000</td>\n",
       "      <td>70.000000</td>\n",
       "      <td>130.000000</td>\n",
       "      <td>99.135000</td>\n",
       "      <td>57.000000</td>\n",
       "      <td>9.610000</td>\n",
       "      <td>5.770000</td>\n",
       "    </tr>\n",
       "    <tr>\n",
       "      <th>75%</th>\n",
       "      <td>9376.250000</td>\n",
       "      <td>70.000000</td>\n",
       "      <td>2.000000</td>\n",
       "      <td>80.000000</td>\n",
       "      <td>150.000000</td>\n",
       "      <td>117.440000</td>\n",
       "      <td>62.000000</td>\n",
       "      <td>12.400000</td>\n",
       "      <td>6.930000</td>\n",
       "    </tr>\n",
       "    <tr>\n",
       "      <th>max</th>\n",
       "      <td>12523.000000</td>\n",
       "      <td>94.000000</td>\n",
       "      <td>4.000000</td>\n",
       "      <td>170.000000</td>\n",
       "      <td>13000.000000</td>\n",
       "      <td>1354.000000</td>\n",
       "      <td>97.000000</td>\n",
       "      <td>41.900000</td>\n",
       "      <td>116.530000</td>\n",
       "    </tr>\n",
       "  </tbody>\n",
       "</table>\n",
       "</div>"
      ],
      "text/plain": [
       "         Unnamed: 0          Age  ОССН KiLLip      ЧСС (b)  \\\n",
       "count   6000.000000  6000.000000  6000.000000  6000.000000   \n",
       "mean    6247.245167    62.735167     1.498833    72.854583   \n",
       "std     3601.724044    10.498273     0.896920    16.328817   \n",
       "min        2.000000    21.000000     0.000000    -1.000000   \n",
       "25%     3107.500000    56.000000     1.000000    65.000000   \n",
       "50%     6229.000000    63.000000     1.000000    70.000000   \n",
       "75%     9376.250000    70.000000     2.000000    80.000000   \n",
       "max    12523.000000    94.000000     4.000000   170.000000   \n",
       "\n",
       "       Систолическое АД(b)    Креатинин          EF%  Лейкоциты(b)  \\\n",
       "count          6000.000000  6000.000000  6000.000000   6000.000000   \n",
       "mean            136.029167   106.798890    56.171667     10.349603   \n",
       "std             168.079058    53.768507     8.958120      3.946659   \n",
       "min              -1.000000     0.000000    18.000000      0.000000   \n",
       "25%             120.000000    83.700000    50.000000      7.515000   \n",
       "50%             130.000000    99.135000    57.000000      9.610000   \n",
       "75%             150.000000   117.440000    62.000000     12.400000   \n",
       "max           13000.000000  1354.000000    97.000000     41.900000   \n",
       "\n",
       "        Глюкоза(a)  \n",
       "count  6000.000000  \n",
       "mean      6.514468  \n",
       "std       3.178992  \n",
       "min       0.000000  \n",
       "25%       5.060000  \n",
       "50%       5.770000  \n",
       "75%       6.930000  \n",
       "max     116.530000  "
      ]
     },
     "metadata": {},
     "output_type": "display_data"
    },
    {
     "data": {
      "text/plain": [
       "Unnamed: 0                0\n",
       "Age                       0\n",
       "ОССН KiLLip               0\n",
       "ЧСС (b)                   0\n",
       "Систолическое АД(b)       0\n",
       "Креатинин                 0\n",
       "EF%                       0\n",
       "Лейкоциты(b)              0\n",
       "Глюкоза(a)                0\n",
       "начало операции        2161\n",
       "Дата операции в БД        0\n",
       "дата выписки           2166\n",
       "дата смерти            5875\n",
       "Исход заболевания         1\n",
       "dtype: int64"
      ]
     },
     "metadata": {},
     "output_type": "display_data"
    }
   ],
   "source": [
    "columns_in_data = ['Age', \n",
    "           'ОССН KiLLip', \n",
    "           'ЧСС (b)', \n",
    "           'Систолическое АД(b)', \n",
    "           'Креатинин', \n",
    "           'EF%',\n",
    "           'Лейкоциты(b)',\n",
    "           'Глюкоза(a)',\n",
    "           'начало операции',\n",
    "           'Дата операции в БД',\n",
    "           'дата выписки',\n",
    "           'дата смерти',\n",
    "           'Исход заболевания']\n",
    "\n",
    "display(data.describe())\n",
    "display(data.isna().sum())\n",
    "\n",
    "columns_with_na = ['Age',\n",
    "                   'ЧСС (b)', \n",
    "                   'Систолическое АД(b)', \n",
    "                   'Креатинин',\n",
    "                   'EF%', \n",
    "                   'Лейкоциты(b)',  \n",
    "                   'Глюкоза(a)']\n",
    "filtered_subset_tests_no_nan = data.dropna(subset=columns_with_na)\n",
    "display(filtered_subset_tests_no_nan.describe())\n",
    "display(filtered_subset_tests_no_nan.isna().sum())\n",
    "\n",
    "\n",
    "\n",
    "# X = data.drop('дата смерти')\n",
    "# y = data['дата смерти']"
   ]
  },
  {
   "attachments": {},
   "cell_type": "markdown",
   "metadata": {},
   "source": [
    "1.2. Explore how NaN values in 'дата выписки', 'дата смерти' are related to each other and to 'Исход заболевания'. \n",
    "Count records where all two are NaN:"
   ]
  },
  {
   "cell_type": "code",
   "execution_count": 82,
   "metadata": {},
   "outputs": [
    {
     "data": {
      "text/plain": [
       "Исход заболевания\n",
       "без перемен                                     4\n",
       "выписан с улучшением                            1\n",
       "неоконченный случай с улучшением                1\n",
       "переведен в другой стационар с улучшением       6\n",
       "с выздоровлением                                1\n",
       "с улучшением                                 2101\n",
       "самоуход                                        1\n",
       "умер                                            9\n",
       "dtype: int64"
      ]
     },
     "metadata": {},
     "output_type": "display_data"
    }
   ],
   "source": [
    "\n",
    "begin_end_op_and_death_dates_nan = filtered_subset_tests_no_nan.loc[filtered_subset_tests_no_nan['дата выписки'].isna()\n",
    "                           &filtered_subset_tests_no_nan['дата смерти'].isna()]\n",
    "display(begin_end_op_and_death_dates_nan.groupby('Исход заболевания').size())"
   ]
  },
  {
   "attachments": {},
   "cell_type": "markdown",
   "metadata": {},
   "source": [
    "There are 9 death cases without any dates. "
   ]
  },
  {
   "attachments": {},
   "cell_type": "markdown",
   "metadata": {},
   "source": [
    "1.3. Examine dates and patients' conditons"
   ]
  },
  {
   "cell_type": "code",
   "execution_count": 91,
   "metadata": {},
   "outputs": [
    {
     "data": {
      "text/plain": [
       "dtype('<M8[ns]')"
      ]
     },
     "metadata": {},
     "output_type": "display_data"
    },
    {
     "data": {
      "text/plain": [
       "dtype('O')"
      ]
     },
     "metadata": {},
     "output_type": "display_data"
    },
    {
     "data": {
      "text/plain": [
       "dtype('O')"
      ]
     },
     "metadata": {},
     "output_type": "display_data"
    }
   ],
   "source": [
    "display(filtered_subset_tests_no_nan['Дата операции в БД'].dtype)\n",
    "display(filtered_subset_tests_no_nan['дата выписки'].dtype) \n",
    "display(filtered_subset_tests_no_nan['дата смерти'].dtype)"
   ]
  },
  {
   "cell_type": "code",
   "execution_count": 158,
   "metadata": {},
   "outputs": [],
   "source": [
    "filtered_subset_tests_no_nan_copy = filtered_subset_tests_no_nan.copy()\n",
    "for col_name in ['Дата операции в БД', 'дата выписки', 'дата смерти']:\n",
    "    new_col_name = f\"{col_name}_parsed\"\n",
    "    filtered_subset_tests_no_nan_copy[new_col_name] = pd.to_datetime(filtered_subset_tests_no_nan_copy[col_name], errors='coerce')"
   ]
  },
  {
   "attachments": {},
   "cell_type": "markdown",
   "metadata": {},
   "source": [
    "There are some invalid date values.\n",
    "Looking at rows where parsed values are NaN and original values are not NaN"
   ]
  },
  {
   "cell_type": "code",
   "execution_count": 118,
   "metadata": {},
   "outputs": [
    {
     "data": {
      "text/html": [
       "<div>\n",
       "<style scoped>\n",
       "    .dataframe tbody tr th:only-of-type {\n",
       "        vertical-align: middle;\n",
       "    }\n",
       "\n",
       "    .dataframe tbody tr th {\n",
       "        vertical-align: top;\n",
       "    }\n",
       "\n",
       "    .dataframe thead th {\n",
       "        text-align: right;\n",
       "    }\n",
       "</style>\n",
       "<table border=\"1\" class=\"dataframe\">\n",
       "  <thead>\n",
       "    <tr style=\"text-align: right;\">\n",
       "      <th></th>\n",
       "      <th>дата выписки</th>\n",
       "      <th>дата смерти</th>\n",
       "      <th>Исход заболевания</th>\n",
       "    </tr>\n",
       "  </thead>\n",
       "  <tbody>\n",
       "    <tr>\n",
       "      <th>659</th>\n",
       "      <td>2020-01-20 20:00:00</td>\n",
       "      <td>Да</td>\n",
       "      <td>умер</td>\n",
       "    </tr>\n",
       "    <tr>\n",
       "      <th>1694</th>\n",
       "      <td>2013-02-08 09:55:00</td>\n",
       "      <td>Да</td>\n",
       "      <td>с улучшением</td>\n",
       "    </tr>\n",
       "    <tr>\n",
       "      <th>2714</th>\n",
       "      <td>2017-06-11 08:51:00</td>\n",
       "      <td>Да</td>\n",
       "      <td>умер</td>\n",
       "    </tr>\n",
       "    <tr>\n",
       "      <th>4166</th>\n",
       "      <td>2018-06-23 10:05:00</td>\n",
       "      <td>Да</td>\n",
       "      <td>умер</td>\n",
       "    </tr>\n",
       "    <tr>\n",
       "      <th>7542</th>\n",
       "      <td>2019-01-22 23:00:00</td>\n",
       "      <td>Да</td>\n",
       "      <td>умер</td>\n",
       "    </tr>\n",
       "    <tr>\n",
       "      <th>9959</th>\n",
       "      <td>: 09.01.2009 эффективность лечения</td>\n",
       "      <td>Да</td>\n",
       "      <td>с улучшением</td>\n",
       "    </tr>\n",
       "    <tr>\n",
       "      <th>10101</th>\n",
       "      <td>2017-01-23 12:25:00</td>\n",
       "      <td>Да</td>\n",
       "      <td>умер</td>\n",
       "    </tr>\n",
       "    <tr>\n",
       "      <th>10329</th>\n",
       "      <td>2020-02-05 11:30:00</td>\n",
       "      <td>Да</td>\n",
       "      <td>умер</td>\n",
       "    </tr>\n",
       "    <tr>\n",
       "      <th>11788</th>\n",
       "      <td>2016-04-19 08:10:00</td>\n",
       "      <td>Да</td>\n",
       "      <td>с улучшением</td>\n",
       "    </tr>\n",
       "  </tbody>\n",
       "</table>\n",
       "</div>"
      ],
      "text/plain": [
       "                             дата выписки дата смерти Исход заболевания\n",
       "659                   2020-01-20 20:00:00          Да              умер\n",
       "1694                  2013-02-08 09:55:00          Да      с улучшением\n",
       "2714                  2017-06-11 08:51:00          Да              умер\n",
       "4166                  2018-06-23 10:05:00          Да              умер\n",
       "7542                  2019-01-22 23:00:00          Да              умер\n",
       "9959   : 09.01.2009 эффективность лечения          Да      с улучшением\n",
       "10101                 2017-01-23 12:25:00          Да              умер\n",
       "10329                 2020-02-05 11:30:00          Да              умер\n",
       "11788                 2016-04-19 08:10:00          Да      с улучшением"
      ]
     },
     "execution_count": 118,
     "metadata": {},
     "output_type": "execute_result"
    }
   ],
   "source": [
    "mask = (\n",
    "    (filtered_subset_tests_no_nan_copy['дата выписки_parsed'].isna() & filtered_subset_tests_no_nan_copy['дата выписки'].notna())\n",
    "    |(filtered_subset_tests_no_nan_copy['дата смерти_parsed'].isna() & filtered_subset_tests_no_nan_copy['дата смерти'].notna())\n",
    ")\n",
    "filtered_subset_tests_no_nan_copy.loc[mask, ['дата выписки', 'дата смерти', 'Исход заболевания']]"
   ]
  },
  {
   "attachments": {},
   "cell_type": "markdown",
   "metadata": {},
   "source": [
    "These rows are umbiguous, will drop them."
   ]
  },
  {
   "cell_type": "code",
   "execution_count": 119,
   "metadata": {},
   "outputs": [],
   "source": [
    "rows_to_keep = ~mask\n",
    "filtered_data = filtered_subset_tests_no_nan_copy[rows_to_keep]"
   ]
  },
  {
   "attachments": {},
   "cell_type": "markdown",
   "metadata": {},
   "source": [
    "Now checking NaN 'дата смерти' and 'Исход заболевания'."
   ]
  },
  {
   "cell_type": "code",
   "execution_count": 161,
   "metadata": {},
   "outputs": [
    {
     "data": {
      "text/html": [
       "<div>\n",
       "<style scoped>\n",
       "    .dataframe tbody tr th:only-of-type {\n",
       "        vertical-align: middle;\n",
       "    }\n",
       "\n",
       "    .dataframe tbody tr th {\n",
       "        vertical-align: top;\n",
       "    }\n",
       "\n",
       "    .dataframe thead th {\n",
       "        text-align: right;\n",
       "    }\n",
       "</style>\n",
       "<table border=\"1\" class=\"dataframe\">\n",
       "  <thead>\n",
       "    <tr style=\"text-align: right;\">\n",
       "      <th></th>\n",
       "      <th>Unnamed: 0</th>\n",
       "      <th>Age</th>\n",
       "      <th>ОССН KiLLip</th>\n",
       "      <th>ЧСС (b)</th>\n",
       "      <th>Систолическое АД(b)</th>\n",
       "      <th>Креатинин</th>\n",
       "      <th>EF%</th>\n",
       "      <th>Лейкоциты(b)</th>\n",
       "      <th>Глюкоза(a)</th>\n",
       "      <th>начало операции</th>\n",
       "      <th>Дата операции в БД</th>\n",
       "      <th>дата выписки</th>\n",
       "      <th>дата смерти</th>\n",
       "      <th>Исход заболевания</th>\n",
       "      <th>Дата операции в БД_parsed</th>\n",
       "      <th>дата выписки_parsed</th>\n",
       "      <th>дата смерти_parsed</th>\n",
       "    </tr>\n",
       "  </thead>\n",
       "  <tbody>\n",
       "    <tr>\n",
       "      <th>3989</th>\n",
       "      <td>3989</td>\n",
       "      <td>76.0</td>\n",
       "      <td>1.0</td>\n",
       "      <td>92.0</td>\n",
       "      <td>120.0</td>\n",
       "      <td>123.72</td>\n",
       "      <td>62.0</td>\n",
       "      <td>9.3</td>\n",
       "      <td>6.32</td>\n",
       "      <td>2016-12-01 18:00:00</td>\n",
       "      <td>2016-10-14</td>\n",
       "      <td>2016-12-01 21:20:00</td>\n",
       "      <td>2016-12-01 21:20:00</td>\n",
       "      <td>с улучшением</td>\n",
       "      <td>2016-10-14</td>\n",
       "      <td>2016-12-01 21:20:00</td>\n",
       "      <td>2016-12-01 21:20:00</td>\n",
       "    </tr>\n",
       "    <tr>\n",
       "      <th>9761</th>\n",
       "      <td>9761</td>\n",
       "      <td>61.0</td>\n",
       "      <td>3.0</td>\n",
       "      <td>72.0</td>\n",
       "      <td>130.0</td>\n",
       "      <td>108.00</td>\n",
       "      <td>65.0</td>\n",
       "      <td>12.9</td>\n",
       "      <td>6.37</td>\n",
       "      <td>2016-12-29 15:00:00</td>\n",
       "      <td>2016-12-29</td>\n",
       "      <td>2017-01-02 18:51:00</td>\n",
       "      <td>2017-01-02 00:00:00</td>\n",
       "      <td>самоуход</td>\n",
       "      <td>2016-12-29</td>\n",
       "      <td>2017-01-02 18:51:00</td>\n",
       "      <td>2017-01-02 00:00:00</td>\n",
       "    </tr>\n",
       "  </tbody>\n",
       "</table>\n",
       "</div>"
      ],
      "text/plain": [
       "      Unnamed: 0   Age  ОССН KiLLip  ЧСС (b)  Систолическое АД(b)  Креатинин  \\\n",
       "3989        3989  76.0          1.0     92.0                120.0     123.72   \n",
       "9761        9761  61.0          3.0     72.0                130.0     108.00   \n",
       "\n",
       "       EF%  Лейкоциты(b)  Глюкоза(a)      начало операции Дата операции в БД  \\\n",
       "3989  62.0           9.3        6.32  2016-12-01 18:00:00         2016-10-14   \n",
       "9761  65.0          12.9        6.37  2016-12-29 15:00:00         2016-12-29   \n",
       "\n",
       "             дата выписки          дата смерти Исход заболевания  \\\n",
       "3989  2016-12-01 21:20:00  2016-12-01 21:20:00      с улучшением   \n",
       "9761  2017-01-02 18:51:00  2017-01-02 00:00:00          самоуход   \n",
       "\n",
       "     Дата операции в БД_parsed дата выписки_parsed  дата смерти_parsed  \n",
       "3989                2016-10-14 2016-12-01 21:20:00 2016-12-01 21:20:00  \n",
       "9761                2016-12-29 2017-01-02 18:51:00 2017-01-02 00:00:00  "
      ]
     },
     "execution_count": 161,
     "metadata": {},
     "output_type": "execute_result"
    }
   ],
   "source": [
    "query_expression = \"(not `дата смерти`.isnull() and `Исход заболевания` != 'умер')\"\n",
    "\n",
    "filtered_data.query(query_expression).head(50)"
   ]
  },
  {
   "attachments": {},
   "cell_type": "markdown",
   "metadata": {},
   "source": [
    "It's ok, it seems for these two rows the data in the column \"Дата смерти\" was put there by a mistake."
   ]
  },
  {
   "attachments": {},
   "cell_type": "markdown",
   "metadata": {},
   "source": [
    "Keeping only death cases within 55 days from the operation date.\n",
    "- If there no information about \"Дата смерти\", but \"Исход заболевания\" is \"умер\", we will consider \"Дата выписки\" as the day of death."
   ]
  },
  {
   "cell_type": "code",
   "execution_count": 170,
   "metadata": {},
   "outputs": [],
   "source": [
    "mask = (\n",
    "    (filtered_data['дата смерти_parsed'].notna()) & \n",
    "                (filtered_data['дата смерти_parsed'] - filtered_data['Дата операции в БД_parsed'] > pd.Timedelta('55 days'))\n",
    "    | ((filtered_data['дата смерти_parsed'].isna()) & \n",
    "                (filtered_data['Исход заболевания'] == 'умер') & \n",
    "                (filtered_data['дата выписки_parsed'].notna()) & \n",
    "                (filtered_data['дата выписки_parsed'] - filtered_data['Дата операции в БД_parsed'] > pd.Timedelta('55 days'))\n",
    "        )\n",
    ")\n",
    "\n",
    "rows_to_keep = ~mask"
   ]
  },
  {
   "cell_type": "code",
   "execution_count": 171,
   "metadata": {},
   "outputs": [
    {
     "name": "stdout",
     "output_type": "stream",
     "text": [
      "Rows to drop: 3\n",
      "Rows left in the dataset: 5988\n"
     ]
    }
   ],
   "source": [
    "print(f\"Rows to drop: {filtered_data[mask].shape[0]}\")\n",
    "proper_date_subset = filtered_data[rows_to_keep]\n",
    "print(f\"Rows left in the dataset: {proper_date_subset.shape[0]}\")"
   ]
  },
  {
   "attachments": {},
   "cell_type": "markdown",
   "metadata": {},
   "source": [
    "2. Split the dataset into train, fit, and test sets"
   ]
  },
  {
   "cell_type": "code",
   "execution_count": 186,
   "metadata": {},
   "outputs": [],
   "source": [
    "X = proper_date_subset[['Age', \n",
    "                        'ОССН KiLLip', \n",
    "                        'ЧСС (b)', \n",
    "                        'Систолическое АД(b)', \n",
    "                        'Креатинин', \n",
    "                        'EF%', \n",
    "                        'Лейкоциты(b)', \n",
    "                        'Глюкоза(a)']]\n",
    "y = proper_date_subset['Исход заболевания'].apply(lambda x: 1 if x == 'умер' else 0)"
   ]
  },
  {
   "cell_type": "code",
   "execution_count": 187,
   "metadata": {},
   "outputs": [],
   "source": [
    "X_train, X_temp, y_train, y_temp = train_test_split(X, y, test_size=0.4, random_state=42)\n",
    "X_fit, X_test, y_fit, y_test = train_test_split(X_temp, y_temp, test_size=0.5, random_state=42)\n"
   ]
  },
  {
   "attachments": {},
   "cell_type": "markdown",
   "metadata": {},
   "source": [
    "3. Data preprocessing pipeline"
   ]
  },
  {
   "cell_type": "code",
   "execution_count": null,
   "metadata": {},
   "outputs": [],
   "source": [
    "preprocessor = Pipeline([\n",
    "    ('imputer', SimpleImputer(strategy='mean')),\n",
    "    ('scaler', StandardScaler())\n",
    "])\n",
    "\n",
    "preprocessor.fit(X_train)\n",
    "\n",
    "X_train_preprocessed = preprocessor.transform(X_train)\n",
    "X_fit_preprocessed = preprocessor.transform(X_fit)\n",
    "X_test_preprocessed = preprocessor.transform(X_test)"
   ]
  },
  {
   "attachments": {},
   "cell_type": "markdown",
   "metadata": {},
   "source": [
    "4. Linear Regression models (Univariative and Multivariate)"
   ]
  },
  {
   "cell_type": "code",
   "execution_count": null,
   "metadata": {},
   "outputs": [],
   "source": [
    "# Univariative Linear Regression\n",
    "for feature_name in X.columns:\n",
    "    lr = LinearRegression()\n",
    "    lr.fit(X_train_preprocessed[:, [X.columns.get_loc(feature_name)]], y_train)\n",
    "    \n",
    "    # Feature weight estimation\n",
    "    print(f\"Feature weight for {feature_name}: {lr.coef_[0]}\")\n",
    "\n",
    "# Multivariate Linear Regression\n",
    "lr_multi = LinearRegression()\n",
    "lr_multi.fit(X_train_preprocessed, y_train)\n",
    "\n",
    "# Feature weight estimation\n",
    "for feature_name, weight in zip(X.columns, lr_multi.coef_):\n",
    "    print(f\"Feature weight for {feature_name}: {weight}\")\n",
    "\n",
    "# Shapley values for Multivariate Linear Regression\n",
    "explainer = shap.Explainer(lr_multi, X_train_preprocessed, feature_names=X.columns)\n",
    "shap_values = explainer(X_fit_preprocessed)\n",
    "shap.summary_plot(shap_values, X_fit, plot_type='bar')\n",
    "plt.title('Shapley Values for Multivariate Linear Regression')\n",
    "plt.show()\n"
   ]
  },
  {
   "attachments": {},
   "cell_type": "markdown",
   "metadata": {},
   "source": [
    "5. Gradient Boosting model"
   ]
  },
  {
   "cell_type": "code",
   "execution_count": null,
   "metadata": {},
   "outputs": [],
   "source": [
    "gb = GradientBoostingRegressor(random_state=42)\n",
    "gb.fit(X_train_preprocessed, y_train)\n",
    "\n",
    "# Feature importance via impurity\n",
    "feature_importances_gb = gb.feature_importances_\n",
    "\n",
    "# Permutation importance\n",
    "result_gb = permutation_importance(gb, X_fit_preprocessed, y_fit, n_repeats=10, random_state=42)\n",
    "perm_importances_gb = result_gb.importances_mean\n",
    "\n",
    "# Shapley values for Gradient Boosting\n",
    "explainer = shap.Explainer(gb, X_train_preprocessed, feature_names=X.columns)\n",
    "shap_values = explainer(X_fit_preprocessed)\n",
    "shap.summary_plot(shap_values, X_fit, plot_type='bar')\n",
    "plt.title('Shapley Values for Gradient Boosting')\n",
    "plt.show()"
   ]
  },
  {
   "attachments": {},
   "cell_type": "markdown",
   "metadata": {},
   "source": [
    "6. Random Forest model"
   ]
  },
  {
   "cell_type": "code",
   "execution_count": null,
   "metadata": {},
   "outputs": [],
   "source": [
    "rf = RandomForestRegressor(random_state=42)\n",
    "rf.fit(X_train_preprocessed, y_train)\n",
    "\n",
    "# Feature importance via impurity\n",
    "feature_importances_rf = rf.feature_importances_\n",
    "\n",
    "# Permutation importance\n",
    "result_rf = permutation_importance(rf, X_fit_preprocessed, y_fit, n_repeats=10, random_state=42)\n",
    "perm_importances_rf = result_rf.importances_mean\n",
    "\n",
    "# Shapley values for Random Forest\n",
    "explainer = shap.Explainer(rf, X_train_preprocessed, feature_names=X.columns)\n",
    "shap_values = explainer(X_fit_preprocessed)\n",
    "shap.summary_plot(shap_values, X_fit, plot_type='bar')\n",
    "plt.title('Shapley Values for Random Forest')\n",
    "plt.show()"
   ]
  },
  {
   "attachments": {},
   "cell_type": "markdown",
   "metadata": {},
   "source": [
    "7. Deep Neural Network model"
   ]
  },
  {
   "cell_type": "code",
   "execution_count": null,
   "metadata": {},
   "outputs": [],
   "source": [
    "def create_dnn(input_shape, num_layers, units_per_layer, l1_l2_reg, dropout_rate):\n",
    "    model = Sequential()\n",
    "    model.add(Dense(units_per_layer, input_shape=input_shape, activation='relu', kernel_regularizer=L1L2(*l1_l2_reg)))\n",
    "    model.add(Dropout(dropout_rate))\n",
    "\n",
    "    for _ in range(num_layers - 1):\n",
    "        model.add(Dense(units_per_layer, activation='relu', kernel_regularizer=L1L2(*l1_l2_reg)))\n",
    "        model.add(Dropout(dropout_rate))\n",
    "\n",
    "    model.add(Dense(1, activation='linear'))\n",
    "    model.compile(optimizer=Adam(learning_rate=0.001), loss='mean_squared_error')\n",
    "    return model\n",
    "\n",
    "def dnn_cross_val_score(X, y, num_layers, units_per_layer, l1_l2_reg, dropout_rate, n_splits=5):\n",
    "    kfold = KFold(n_splits=n_splits, shuffle=True, random_state=42)\n",
    "    scores = []\n",
    "\n",
    "    for train_index, val_index in kfold.split(X, y):\n",
    "        X_train, X_val = X[train_index], X[val_index]\n",
    "        y_train, y_val = y[train_index], y[val_index]\n",
    "\n",
    "        preprocessor.fit(X_train)\n",
    "        X_train_preprocessed = preprocessor.transform(X_train)\n",
    "        X_val_preprocessed = preprocessor.transform(X_val)\n",
    "\n",
    "        dnn = create_dnn((X_train_preprocessed.shape[1],), num_layers, units_per_layer, l1_l2_reg, dropout_rate)\n",
    "        \n",
    "        early_stopping = EarlyStopping(monitor='val_loss', patience=10, restore_best_weights=True)\n",
    "\n",
    "        dnn.fit(X_train_preprocessed, \n",
    "                y_train, \n",
    "                validation_data=(X_val_preprocessed, y_val), \n",
    "                epochs=100, \n",
    "                batch_size=32, \n",
    "                verbose=0, \n",
    "                callbacks=[early_stopping]\n",
    "                )\n",
    "\n",
    "        score = dnn.evaluate(X_val_preprocessed, y_val, verbose=0)\n",
    "        scores.append(score)\n",
    "\n",
    "    return np.mean(scores)\n",
    "\n",
    "num_layers = 2\n",
    "units_per_layer = 64\n",
    "l1_l2_reg = (1e-5, 1e-5)\n",
    "dropout_rate = 0.2\n",
    "mean_score = dnn_cross_val_score(X, y, num_layers, units_per_layer, l1_l2_reg, dropout_rate)\n",
    "print(f\"Mean score for {num_layers} layers, {units_per_layer} units per layer, L1/L2 reg = {l1_l2_reg}, dropout rate = {dropout_rate}: {mean_score}\")"
   ]
  },
  {
   "cell_type": "code",
   "execution_count": null,
   "metadata": {},
   "outputs": [],
   "source": [
    "dnn = create_dnn((X_train_preprocessed.shape[1],), num_layers, units_per_layer, l1_l2_reg, dropout_rate)\n",
    "early_stopping = EarlyStopping(monitor='val_loss', patience=10, restore_best_weights=True)\n",
    "dnn.fit(X_train_preprocessed, y_train, validation_data=(X_fit_preprocessed, y_fit), epochs=100, batch_size=32, callbacks=[early_stopping])\n",
    "\n",
    "# Shapley values for Deep Neural Network\n",
    "explainer = shap.Explainer(dnn, X_train_preprocessed, feature_names=X.columns)\n",
    "shap_values = explainer(X_fit_preprocessed)\n",
    "shap.summary_plot(shap_values, X_fit, plot_type='bar')\n",
    "plt.title('Shapley Values for Deep Neural Network')\n",
    "plt.show()"
   ]
  },
  {
   "attachments": {},
   "cell_type": "markdown",
   "metadata": {},
   "source": [
    "8. Comparison of feature importances"
   ]
  },
  {
   "cell_type": "code",
   "execution_count": null,
   "metadata": {},
   "outputs": [],
   "source": [
    "feature_importance_df = pd.DataFrame({'Feature': X.columns,\n",
    "                                      'Multivariate Linear Regression': lr_multi.coef_,\n",
    "                                      'Gradient Boosting (impurity)': feature_importances_gb,\n",
    "                                      'Gradient Boosting (permutation)': perm_importances_gb,\n",
    "                                      'Random Forest (impurity)': feature_importances_rf,\n",
    "                                      'Random Forest (permutation)': perm_importances_rf})\n",
    "\n",
    "feature_importance_df.set_index('Feature', inplace=True)\n",
    "feature_importance_df.plot(kind='bar', figsize=(12, 6))\n",
    "plt.title('Feature Importances for Different Models')\n",
    "plt.ylabel('Importance')\n",
    "plt.xticks(rotation=45)\n",
    "plt.show()"
   ]
  }
 ],
 "metadata": {
  "kernelspec": {
   "display_name": "shap-p3.10.10",
   "language": "python",
   "name": "python3"
  },
  "language_info": {
   "codemirror_mode": {
    "name": "ipython",
    "version": 3
   },
   "file_extension": ".py",
   "mimetype": "text/x-python",
   "name": "python",
   "nbconvert_exporter": "python",
   "pygments_lexer": "ipython3",
   "version": "3.10.11"
  },
  "orig_nbformat": 4
 },
 "nbformat": 4,
 "nbformat_minor": 2
}
