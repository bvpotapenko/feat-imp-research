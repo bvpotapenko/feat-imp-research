{
 "cells": [
  {
   "attachments": {},
   "cell_type": "markdown",
   "metadata": {},
   "source": [
    "Exploring a dataset with information about patients. \n",
    "Consider next 8 features to predict the mortality rate:\n",
    "1. Age\n",
    "2. ОССН KiLLip\n",
    "3. HBR (b)\n",
    "4. Systolic AP(b)\n",
    "5. Creatine in blood\n",
    "6. EF Percentage\n",
    "7. White blood cells count\n",
    "8. Glucose"
   ]
  },
  {
   "attachments": {},
   "cell_type": "markdown",
   "metadata": {},
   "source": [
    "# 1. Import required libraries and load the dataset"
   ]
  },
  {
   "cell_type": "code",
   "execution_count": 1,
   "metadata": {},
   "outputs": [],
   "source": [
    "import numpy as np\n",
    "import pandas as pd\n",
    "import matplotlib.pyplot as plt\n",
    "import seaborn as sns\n",
    "from IPython.display import display"
   ]
  },
  {
   "cell_type": "code",
   "execution_count": 2,
   "metadata": {},
   "outputs": [],
   "source": [
    "# Load dataset\n",
    "raw_data = pd.read_excel('./import/DataSet_V47.xlsx')"
   ]
  },
  {
   "attachments": {},
   "cell_type": "markdown",
   "metadata": {},
   "source": [
    "1.1. Select features"
   ]
  },
  {
   "cell_type": "code",
   "execution_count": 3,
   "metadata": {},
   "outputs": [],
   "source": [
    "columns_in_data = ['Age', \n",
    "           'ОССН KiLLip', \n",
    "           'ЧСС (b)', \n",
    "           'Систолическое АД(b)', \n",
    "           'Креатинин', \n",
    "           'EF%',\n",
    "           'Лейкоциты(b)',\n",
    "           'Глюкоза(a)',\n",
    "           'начало операции',\n",
    "           'Дата операции в БД',\n",
    "           'дата выписки',\n",
    "           'дата смерти',\n",
    "           'Исход заболевания']\n",
    "data=raw_data.loc[(raw_data['STEMI']== 'Да')  & \n",
    "                   (raw_data['Наличие в БД']== 'Да')  & \n",
    "                  (raw_data['Наличие в файле']== 'Да') &\n",
    "                   (raw_data['ЧКВ']== 'Да'),\n",
    "                   columns_in_data]"
   ]
  },
  {
   "cell_type": "code",
   "execution_count": 4,
   "metadata": {},
   "outputs": [
    {
     "data": {
      "text/plain": [
       "(4681, 13)"
      ]
     },
     "metadata": {},
     "output_type": "display_data"
    },
    {
     "data": {
      "text/html": [
       "<div>\n",
       "<style scoped>\n",
       "    .dataframe tbody tr th:only-of-type {\n",
       "        vertical-align: middle;\n",
       "    }\n",
       "\n",
       "    .dataframe tbody tr th {\n",
       "        vertical-align: top;\n",
       "    }\n",
       "\n",
       "    .dataframe thead th {\n",
       "        text-align: right;\n",
       "    }\n",
       "</style>\n",
       "<table border=\"1\" class=\"dataframe\">\n",
       "  <thead>\n",
       "    <tr style=\"text-align: right;\">\n",
       "      <th></th>\n",
       "      <th>Age</th>\n",
       "      <th>ОССН KiLLip</th>\n",
       "      <th>ЧСС (b)</th>\n",
       "      <th>Систолическое АД(b)</th>\n",
       "      <th>Креатинин</th>\n",
       "      <th>EF%</th>\n",
       "      <th>Лейкоциты(b)</th>\n",
       "      <th>Глюкоза(a)</th>\n",
       "    </tr>\n",
       "  </thead>\n",
       "  <tbody>\n",
       "    <tr>\n",
       "      <th>count</th>\n",
       "      <td>4681.000000</td>\n",
       "      <td>4681.000000</td>\n",
       "      <td>4646.000000</td>\n",
       "      <td>4678.000000</td>\n",
       "      <td>4611.000000</td>\n",
       "      <td>4215.000000</td>\n",
       "      <td>3471.000000</td>\n",
       "      <td>4388.000000</td>\n",
       "    </tr>\n",
       "    <tr>\n",
       "      <th>mean</th>\n",
       "      <td>62.357830</td>\n",
       "      <td>1.678701</td>\n",
       "      <td>75.471481</td>\n",
       "      <td>133.127832</td>\n",
       "      <td>106.279991</td>\n",
       "      <td>54.638434</td>\n",
       "      <td>11.375367</td>\n",
       "      <td>6.681723</td>\n",
       "    </tr>\n",
       "    <tr>\n",
       "      <th>std</th>\n",
       "      <td>11.038623</td>\n",
       "      <td>0.980228</td>\n",
       "      <td>16.091129</td>\n",
       "      <td>25.197232</td>\n",
       "      <td>51.464548</td>\n",
       "      <td>8.914919</td>\n",
       "      <td>4.138540</td>\n",
       "      <td>3.124519</td>\n",
       "    </tr>\n",
       "    <tr>\n",
       "      <th>min</th>\n",
       "      <td>26.000000</td>\n",
       "      <td>0.000000</td>\n",
       "      <td>20.000000</td>\n",
       "      <td>15.000000</td>\n",
       "      <td>3.830000</td>\n",
       "      <td>10.000000</td>\n",
       "      <td>0.100000</td>\n",
       "      <td>0.000000</td>\n",
       "    </tr>\n",
       "    <tr>\n",
       "      <th>25%</th>\n",
       "      <td>55.000000</td>\n",
       "      <td>1.000000</td>\n",
       "      <td>65.000000</td>\n",
       "      <td>120.000000</td>\n",
       "      <td>81.530000</td>\n",
       "      <td>49.000000</td>\n",
       "      <td>8.500000</td>\n",
       "      <td>5.120000</td>\n",
       "    </tr>\n",
       "    <tr>\n",
       "      <th>50%</th>\n",
       "      <td>63.000000</td>\n",
       "      <td>1.000000</td>\n",
       "      <td>72.000000</td>\n",
       "      <td>130.000000</td>\n",
       "      <td>97.820000</td>\n",
       "      <td>56.000000</td>\n",
       "      <td>10.700000</td>\n",
       "      <td>5.830000</td>\n",
       "    </tr>\n",
       "    <tr>\n",
       "      <th>75%</th>\n",
       "      <td>70.000000</td>\n",
       "      <td>2.000000</td>\n",
       "      <td>81.000000</td>\n",
       "      <td>150.000000</td>\n",
       "      <td>116.630000</td>\n",
       "      <td>61.000000</td>\n",
       "      <td>13.500000</td>\n",
       "      <td>7.100000</td>\n",
       "    </tr>\n",
       "    <tr>\n",
       "      <th>max</th>\n",
       "      <td>93.000000</td>\n",
       "      <td>4.000000</td>\n",
       "      <td>200.000000</td>\n",
       "      <td>260.000000</td>\n",
       "      <td>1354.000000</td>\n",
       "      <td>80.000000</td>\n",
       "      <td>43.100000</td>\n",
       "      <td>77.330000</td>\n",
       "    </tr>\n",
       "  </tbody>\n",
       "</table>\n",
       "</div>"
      ],
      "text/plain": [
       "               Age  ОССН KiLLip      ЧСС (b)  Систолическое АД(b)  \\\n",
       "count  4681.000000  4681.000000  4646.000000          4678.000000   \n",
       "mean     62.357830     1.678701    75.471481           133.127832   \n",
       "std      11.038623     0.980228    16.091129            25.197232   \n",
       "min      26.000000     0.000000    20.000000            15.000000   \n",
       "25%      55.000000     1.000000    65.000000           120.000000   \n",
       "50%      63.000000     1.000000    72.000000           130.000000   \n",
       "75%      70.000000     2.000000    81.000000           150.000000   \n",
       "max      93.000000     4.000000   200.000000           260.000000   \n",
       "\n",
       "         Креатинин          EF%  Лейкоциты(b)   Глюкоза(a)  \n",
       "count  4611.000000  4215.000000   3471.000000  4388.000000  \n",
       "mean    106.279991    54.638434     11.375367     6.681723  \n",
       "std      51.464548     8.914919      4.138540     3.124519  \n",
       "min       3.830000    10.000000      0.100000     0.000000  \n",
       "25%      81.530000    49.000000      8.500000     5.120000  \n",
       "50%      97.820000    56.000000     10.700000     5.830000  \n",
       "75%     116.630000    61.000000     13.500000     7.100000  \n",
       "max    1354.000000    80.000000     43.100000    77.330000  "
      ]
     },
     "metadata": {},
     "output_type": "display_data"
    }
   ],
   "source": [
    "display(data.shape)\n",
    "display(data.describe())"
   ]
  },
  {
   "attachments": {},
   "cell_type": "markdown",
   "metadata": {},
   "source": [
    "Remove rows with NaN values"
   ]
  },
  {
   "cell_type": "code",
   "execution_count": 5,
   "metadata": {},
   "outputs": [
    {
     "name": "stdout",
     "output_type": "stream",
     "text": [
      "Amount of NaN values in different columns before:\n"
     ]
    },
    {
     "data": {
      "text/plain": [
       "Age                       0\n",
       "ОССН KiLLip               0\n",
       "ЧСС (b)                  35\n",
       "Систолическое АД(b)       3\n",
       "Креатинин                70\n",
       "EF%                     466\n",
       "Лейкоциты(b)           1210\n",
       "Глюкоза(a)              293\n",
       "начало операции        1549\n",
       "Дата операции в БД        0\n",
       "дата выписки           1580\n",
       "дата смерти            4360\n",
       "Исход заболевания         0\n",
       "dtype: int64"
      ]
     },
     "metadata": {},
     "output_type": "display_data"
    },
    {
     "name": "stdout",
     "output_type": "stream",
     "text": [
      "Amount of NaN values in different columns after:\n"
     ]
    },
    {
     "data": {
      "text/plain": [
       "Age                       0\n",
       "ОССН KiLLip               0\n",
       "ЧСС (b)                   0\n",
       "Систолическое АД(b)       0\n",
       "Креатинин                 0\n",
       "EF%                       0\n",
       "Лейкоциты(b)              0\n",
       "Глюкоза(a)                0\n",
       "начало операции        1082\n",
       "Дата операции в БД        0\n",
       "дата выписки           1086\n",
       "дата смерти            2920\n",
       "Исход заболевания         0\n",
       "dtype: int64"
      ]
     },
     "metadata": {},
     "output_type": "display_data"
    }
   ],
   "source": [
    "print(\"Amount of NaN values in different columns before:\")\n",
    "display(data.isna().sum())\n",
    "\n",
    "columns_to_check = ['Age',\n",
    "                   'ЧСС (b)', \n",
    "                   'Систолическое АД(b)', \n",
    "                   'Креатинин',\n",
    "                   'EF%', \n",
    "                   'Лейкоциты(b)',  \n",
    "                   'Глюкоза(a)']\n",
    "data_no_nan = data.dropna(subset=columns_to_check)\n",
    "print(\"Amount of NaN values in different columns after:\")\n",
    "display(data_no_nan.isna().sum())"
   ]
  },
  {
   "attachments": {},
   "cell_type": "markdown",
   "metadata": {},
   "source": [
    "Parsing date-time columns into date-time format."
   ]
  },
  {
   "cell_type": "code",
   "execution_count": 6,
   "metadata": {},
   "outputs": [],
   "source": [
    "data_no_nan_copy = data_no_nan.copy()\n",
    "for col_name in ['Дата операции в БД', 'дата выписки', 'дата смерти']:\n",
    "    new_col_name = f\"{col_name}_parsed\"\n",
    "    data_no_nan_copy[new_col_name] = pd.to_datetime(data_no_nan_copy[col_name], errors='coerce')"
   ]
  },
  {
   "attachments": {},
   "cell_type": "markdown",
   "metadata": {},
   "source": [
    "Now checking 'дата смерти' and 'Исход заболевания' for inconsistent values."
   ]
  },
  {
   "cell_type": "code",
   "execution_count": 7,
   "metadata": {},
   "outputs": [
    {
     "data": {
      "text/html": [
       "<div>\n",
       "<style scoped>\n",
       "    .dataframe tbody tr th:only-of-type {\n",
       "        vertical-align: middle;\n",
       "    }\n",
       "\n",
       "    .dataframe tbody tr th {\n",
       "        vertical-align: top;\n",
       "    }\n",
       "\n",
       "    .dataframe thead th {\n",
       "        text-align: right;\n",
       "    }\n",
       "</style>\n",
       "<table border=\"1\" class=\"dataframe\">\n",
       "  <thead>\n",
       "    <tr style=\"text-align: right;\">\n",
       "      <th></th>\n",
       "      <th>Age</th>\n",
       "      <th>ОССН KiLLip</th>\n",
       "      <th>ЧСС (b)</th>\n",
       "      <th>Систолическое АД(b)</th>\n",
       "      <th>Креатинин</th>\n",
       "      <th>EF%</th>\n",
       "      <th>Лейкоциты(b)</th>\n",
       "      <th>Глюкоза(a)</th>\n",
       "      <th>начало операции</th>\n",
       "      <th>Дата операции в БД</th>\n",
       "      <th>дата выписки</th>\n",
       "      <th>дата смерти</th>\n",
       "      <th>Исход заболевания</th>\n",
       "      <th>Дата операции в БД_parsed</th>\n",
       "      <th>дата выписки_parsed</th>\n",
       "      <th>дата смерти_parsed</th>\n",
       "    </tr>\n",
       "  </thead>\n",
       "  <tbody>\n",
       "    <tr>\n",
       "      <th>9761</th>\n",
       "      <td>61.0</td>\n",
       "      <td>3.0</td>\n",
       "      <td>72.0</td>\n",
       "      <td>130.0</td>\n",
       "      <td>108.0</td>\n",
       "      <td>65.0</td>\n",
       "      <td>12.9</td>\n",
       "      <td>6.37</td>\n",
       "      <td>2016-12-29 15:00:00</td>\n",
       "      <td>2016-12-29</td>\n",
       "      <td>2017-01-02 18:51:00</td>\n",
       "      <td>2017-01-02 00:00:00</td>\n",
       "      <td>самоуход</td>\n",
       "      <td>2016-12-29</td>\n",
       "      <td>2017-01-02 18:51:00</td>\n",
       "      <td>2017-01-02</td>\n",
       "    </tr>\n",
       "  </tbody>\n",
       "</table>\n",
       "</div>"
      ],
      "text/plain": [
       "       Age  ОССН KiLLip  ЧСС (b)  Систолическое АД(b)  Креатинин   EF%  \\\n",
       "9761  61.0          3.0     72.0                130.0      108.0  65.0   \n",
       "\n",
       "      Лейкоциты(b)  Глюкоза(a)     начало операции Дата операции в БД  \\\n",
       "9761          12.9        6.37 2016-12-29 15:00:00         2016-12-29   \n",
       "\n",
       "             дата выписки          дата смерти Исход заболевания  \\\n",
       "9761  2017-01-02 18:51:00  2017-01-02 00:00:00          самоуход   \n",
       "\n",
       "     Дата операции в БД_parsed дата выписки_parsed дата смерти_parsed  \n",
       "9761                2016-12-29 2017-01-02 18:51:00         2017-01-02  "
      ]
     },
     "execution_count": 7,
     "metadata": {},
     "output_type": "execute_result"
    }
   ],
   "source": [
    "query_expression = \"(not `дата смерти`.isnull() and `Исход заболевания` != 'умер')\"\n",
    "data_no_nan_copy.query(query_expression)"
   ]
  },
  {
   "attachments": {},
   "cell_type": "markdown",
   "metadata": {},
   "source": [
    "Drop this row."
   ]
  },
  {
   "cell_type": "code",
   "execution_count": 8,
   "metadata": {},
   "outputs": [
    {
     "data": {
      "text/plain": [
       "(3027, 16)"
      ]
     },
     "metadata": {},
     "output_type": "display_data"
    },
    {
     "data": {
      "text/plain": [
       "(3026, 16)"
      ]
     },
     "metadata": {},
     "output_type": "display_data"
    }
   ],
   "source": [
    "# Applying De Morgan's laws to the query\n",
    "query_expression_2 = \"(`дата смерти`.isnull() or `Исход заболевания` == 'умер')\"\n",
    "# Drop rows that satisfy the query expression\n",
    "display(data_no_nan_copy.shape)\n",
    "clean_data = data_no_nan_copy.query(query_expression_2)\n",
    "display(clean_data.shape)"
   ]
  },
  {
   "attachments": {},
   "cell_type": "markdown",
   "metadata": {},
   "source": [
    "Keeping only death cases within 55 days from the operation date.\n",
    "\n",
    "Note: If there is no information about \"Дата смерти\", but \"Исход заболевания\" is \"умер\", we will consider the date from \"Дата выписки\" as the day of death."
   ]
  },
  {
   "cell_type": "code",
   "execution_count": 9,
   "metadata": {},
   "outputs": [],
   "source": [
    "mask = (\n",
    "    (clean_data['дата смерти_parsed'].notna()) & \n",
    "                (clean_data['дата смерти_parsed'] - clean_data['Дата операции в БД_parsed'] > pd.Timedelta('55 days'))\n",
    "    | ((clean_data['дата смерти_parsed'].isna()) & \n",
    "                (clean_data['Исход заболевания'] == 'умер') & \n",
    "                (clean_data['дата выписки_parsed'].notna()) & \n",
    "                (clean_data['дата выписки_parsed'] - clean_data['Дата операции в БД_parsed'] > pd.Timedelta('55 days'))\n",
    "        )\n",
    ")\n",
    "\n",
    "rows_to_keep = ~mask"
   ]
  },
  {
   "cell_type": "code",
   "execution_count": 10,
   "metadata": {},
   "outputs": [
    {
     "name": "stdout",
     "output_type": "stream",
     "text": [
      "Rows to drop: 2\n",
      "Rows left in the dataset: 3024\n"
     ]
    }
   ],
   "source": [
    "print(f\"Rows to drop: {clean_data[mask].shape[0]}\")\n",
    "ready_data = clean_data[rows_to_keep]\n",
    "print(f\"Rows left in the dataset: {ready_data.shape[0]}\")"
   ]
  },
  {
   "cell_type": "code",
   "execution_count": 17,
   "metadata": {},
   "outputs": [],
   "source": [
    "renamed_df = ready_data.rename(columns={ \n",
    "        'ОССН KiLLip': \"CHF KiLLip\",\n",
    "        'ЧСС (b)': \"HBR (b)\", \n",
    "        'Систолическое АД(b)': \"Systolic AP(b)\", \n",
    "        'Креатинин': \"Creatinine in blood\", \n",
    "        'EF%': \"EF Percentage\", \n",
    "        'Лейкоциты(b)': \"White blood cells count\", \n",
    "        'Глюкоза(a)': \"Glucose\",\n",
    "        'Исход заболевания': 'Class'\n",
    "    })\n",
    "renamed_df['Class'] = renamed_df['Class'].apply(lambda x: 1 if x == 'умер' else 0) "
   ]
  },
  {
   "cell_type": "code",
   "execution_count": 19,
   "metadata": {},
   "outputs": [],
   "source": [
    "final_df = renamed_df[[\"Age\", \"CHF KiLLip\", \"HBR (b)\", \"Systolic AP(b)\", \"Creatinine in blood\", \"EF Percentage\", \"White blood cells count\", \"Glucose\", \"Class\"]]"
   ]
  },
  {
   "cell_type": "code",
   "execution_count": 20,
   "metadata": {},
   "outputs": [
    {
     "data": {
      "text/html": [
       "<div>\n",
       "<style scoped>\n",
       "    .dataframe tbody tr th:only-of-type {\n",
       "        vertical-align: middle;\n",
       "    }\n",
       "\n",
       "    .dataframe tbody tr th {\n",
       "        vertical-align: top;\n",
       "    }\n",
       "\n",
       "    .dataframe thead th {\n",
       "        text-align: right;\n",
       "    }\n",
       "</style>\n",
       "<table border=\"1\" class=\"dataframe\">\n",
       "  <thead>\n",
       "    <tr style=\"text-align: right;\">\n",
       "      <th></th>\n",
       "      <th>Age</th>\n",
       "      <th>CHF KiLLip</th>\n",
       "      <th>HBR (b)</th>\n",
       "      <th>Systolic AP(b)</th>\n",
       "      <th>Creatinine in blood</th>\n",
       "      <th>EF Percentage</th>\n",
       "      <th>White blood cells count</th>\n",
       "      <th>Glucose</th>\n",
       "      <th>Class</th>\n",
       "    </tr>\n",
       "  </thead>\n",
       "  <tbody>\n",
       "    <tr>\n",
       "      <th>count</th>\n",
       "      <td>3024.000000</td>\n",
       "      <td>3024.000000</td>\n",
       "      <td>3024.000000</td>\n",
       "      <td>3024.000000</td>\n",
       "      <td>3024.000000</td>\n",
       "      <td>3024.000000</td>\n",
       "      <td>3024.000000</td>\n",
       "      <td>3024.000000</td>\n",
       "      <td>3024.000000</td>\n",
       "    </tr>\n",
       "    <tr>\n",
       "      <th>mean</th>\n",
       "      <td>62.359788</td>\n",
       "      <td>1.657407</td>\n",
       "      <td>74.564815</td>\n",
       "      <td>133.609788</td>\n",
       "      <td>106.298396</td>\n",
       "      <td>54.633598</td>\n",
       "      <td>11.305430</td>\n",
       "      <td>6.579134</td>\n",
       "      <td>0.034392</td>\n",
       "    </tr>\n",
       "    <tr>\n",
       "      <th>std</th>\n",
       "      <td>10.892925</td>\n",
       "      <td>0.950490</td>\n",
       "      <td>14.805993</td>\n",
       "      <td>24.040857</td>\n",
       "      <td>50.914138</td>\n",
       "      <td>8.940425</td>\n",
       "      <td>3.988858</td>\n",
       "      <td>3.069784</td>\n",
       "      <td>0.182263</td>\n",
       "    </tr>\n",
       "    <tr>\n",
       "      <th>min</th>\n",
       "      <td>26.000000</td>\n",
       "      <td>0.000000</td>\n",
       "      <td>30.000000</td>\n",
       "      <td>15.000000</td>\n",
       "      <td>3.830000</td>\n",
       "      <td>20.000000</td>\n",
       "      <td>0.100000</td>\n",
       "      <td>0.000000</td>\n",
       "      <td>0.000000</td>\n",
       "    </tr>\n",
       "    <tr>\n",
       "      <th>25%</th>\n",
       "      <td>55.000000</td>\n",
       "      <td>1.000000</td>\n",
       "      <td>65.000000</td>\n",
       "      <td>120.000000</td>\n",
       "      <td>83.000000</td>\n",
       "      <td>49.000000</td>\n",
       "      <td>8.500000</td>\n",
       "      <td>5.107500</td>\n",
       "      <td>0.000000</td>\n",
       "    </tr>\n",
       "    <tr>\n",
       "      <th>50%</th>\n",
       "      <td>63.000000</td>\n",
       "      <td>1.000000</td>\n",
       "      <td>72.000000</td>\n",
       "      <td>130.000000</td>\n",
       "      <td>98.755000</td>\n",
       "      <td>56.000000</td>\n",
       "      <td>10.700000</td>\n",
       "      <td>5.800000</td>\n",
       "      <td>0.000000</td>\n",
       "    </tr>\n",
       "    <tr>\n",
       "      <th>75%</th>\n",
       "      <td>70.000000</td>\n",
       "      <td>2.000000</td>\n",
       "      <td>80.000000</td>\n",
       "      <td>150.000000</td>\n",
       "      <td>117.397500</td>\n",
       "      <td>61.000000</td>\n",
       "      <td>13.400000</td>\n",
       "      <td>6.982500</td>\n",
       "      <td>0.000000</td>\n",
       "    </tr>\n",
       "    <tr>\n",
       "      <th>max</th>\n",
       "      <td>92.000000</td>\n",
       "      <td>4.000000</td>\n",
       "      <td>160.000000</td>\n",
       "      <td>240.000000</td>\n",
       "      <td>1354.000000</td>\n",
       "      <td>80.000000</td>\n",
       "      <td>38.800000</td>\n",
       "      <td>77.330000</td>\n",
       "      <td>1.000000</td>\n",
       "    </tr>\n",
       "  </tbody>\n",
       "</table>\n",
       "</div>"
      ],
      "text/plain": [
       "               Age   CHF KiLLip      HBR (b)  Systolic AP(b)  \\\n",
       "count  3024.000000  3024.000000  3024.000000     3024.000000   \n",
       "mean     62.359788     1.657407    74.564815      133.609788   \n",
       "std      10.892925     0.950490    14.805993       24.040857   \n",
       "min      26.000000     0.000000    30.000000       15.000000   \n",
       "25%      55.000000     1.000000    65.000000      120.000000   \n",
       "50%      63.000000     1.000000    72.000000      130.000000   \n",
       "75%      70.000000     2.000000    80.000000      150.000000   \n",
       "max      92.000000     4.000000   160.000000      240.000000   \n",
       "\n",
       "       Creatinine in blood  EF Percentage  White blood cells count  \\\n",
       "count          3024.000000    3024.000000              3024.000000   \n",
       "mean            106.298396      54.633598                11.305430   \n",
       "std              50.914138       8.940425                 3.988858   \n",
       "min               3.830000      20.000000                 0.100000   \n",
       "25%              83.000000      49.000000                 8.500000   \n",
       "50%              98.755000      56.000000                10.700000   \n",
       "75%             117.397500      61.000000                13.400000   \n",
       "max            1354.000000      80.000000                38.800000   \n",
       "\n",
       "           Glucose        Class  \n",
       "count  3024.000000  3024.000000  \n",
       "mean      6.579134     0.034392  \n",
       "std       3.069784     0.182263  \n",
       "min       0.000000     0.000000  \n",
       "25%       5.107500     0.000000  \n",
       "50%       5.800000     0.000000  \n",
       "75%       6.982500     0.000000  \n",
       "max      77.330000     1.000000  "
      ]
     },
     "execution_count": 20,
     "metadata": {},
     "output_type": "execute_result"
    }
   ],
   "source": [
    "final_df.describe()\n"
   ]
  },
  {
   "cell_type": "code",
   "execution_count": 24,
   "metadata": {},
   "outputs": [],
   "source": [
    "final_df.to_csv('import/dataset_prepared.csv', index=False)"
   ]
  },
  {
   "cell_type": "code",
   "execution_count": 36,
   "metadata": {},
   "outputs": [
    {
     "data": {
      "image/png": "[encoded data removed]",
      "text/plain": [
       "<Figure size 800x400 with 2 Axes>"
      ]
     },
     "metadata": {},
     "output_type": "display_data"
    }
   ],
   "source": [
    "plt.figure(figsize = (8,4), dpi=100)\n",
    "ax = plt.axes()\n",
    "sns.heatmap(final_df.corr(), annot = True, cmap='RdBu', ax=ax)\n",
    "ax.set_title('Correlation Matrix', weight='bold')\n",
    "plt.show()"
   ]
  },
  {
   "cell_type": "code",
   "execution_count": 25,
   "metadata": {},
   "outputs": [
    {
     "name": "stdout",
     "output_type": "stream",
     "text": [
      "Examples:\n",
      "    Total: 3024\n",
      "    Positive: 104 (3.44% of total)\n",
      "\n"
     ]
    }
   ],
   "source": [
    "neg, pos = np.bincount(final_df['Class'])\n",
    "total = neg + pos\n",
    "print('Examples:\\n    Total: {}\\n    Positive: {} ({:.2f}% of total)\\n'.format(\n",
    "    total, pos, 100 * pos / total))"
   ]
  }
 ],
 "metadata": {
  "kernelspec": {
   "display_name": "mortality_prediction",
   "language": "python",
   "name": "python3"
  },
  "language_info": {
   "codemirror_mode": {
    "name": "ipython",
    "version": 3
   },
   "file_extension": ".py",
   "mimetype": "text/x-python",
   "name": "python",
   "nbconvert_exporter": "python",
   "pygments_lexer": "ipython3",
   "version": "3.10.11"
  },
  "orig_nbformat": 4
 },
 "nbformat": 4,
 "nbformat_minor": 2
}
