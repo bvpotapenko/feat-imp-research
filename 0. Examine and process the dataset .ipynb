{
 "cells": [
  {
   "attachments": {},
   "cell_type": "markdown",
   "metadata": {},
   "source": [
    "Exploring a dataset with information about patients. \n",
    "Consider next 8 features to predict the mortality rate:\n",
    "1. Age\n",
    "2. CHF KiLLip\n",
    "3. HBR (b)\n",
    "4. Systolic AP(b)\n",
    "5. Creatine in blood\n",
    "6. EF Percentage\n",
    "7. White blood cells count\n",
    "8. Glucose"
   ]
  },
  {
   "attachments": {},
   "cell_type": "markdown",
   "metadata": {},
   "source": [
    "# 1. Import required libraries and load the dataset"
   ]
  },
  {
   "cell_type": "code",
   "execution_count": null,
   "metadata": {},
   "outputs": [],
   "source": [
    "import numpy as np\n",
    "import pandas as pd\n",
    "import matplotlib.pyplot as plt\n",
    "import seaborn as sns\n",
    "from IPython.display import display"
   ]
  },
  {
   "cell_type": "code",
   "execution_count": null,
   "metadata": {},
   "outputs": [],
   "source": [
    "# Load dataset\n",
    "raw_data = pd.read_excel('./import/DataSet_V47.xlsx')"
   ]
  },
  {
   "attachments": {},
   "cell_type": "markdown",
   "metadata": {},
   "source": [
    "1.1. Select features"
   ]
  },
  {
   "cell_type": "code",
   "execution_count": null,
   "metadata": {},
   "outputs": [],
   "source": [
    "columns_in_data = ['Age', \n",
    "           'ОССН KiLLip', \n",
    "           'ЧСС (b)', \n",
    "           'Систолическое АД(b)', \n",
    "           'Креатинин', \n",
    "           'EF%',\n",
    "           'Лейкоциты(b)',\n",
    "           'Глюкоза(a)',\n",
    "           'начало операции',\n",
    "           'Дата операции в БД',\n",
    "           'дата выписки',\n",
    "           'дата смерти',\n",
    "           'Исход заболевания']\n",
    "data=raw_data.loc[(raw_data['STEMI']== 'Да')  & \n",
    "                   (raw_data['Наличие в БД']== 'Да')  & \n",
    "                  (raw_data['Наличие в файле']== 'Да') &\n",
    "                   (raw_data['ЧКВ']== 'Да'),\n",
    "                   columns_in_data]"
   ]
  },
  {
   "cell_type": "code",
   "execution_count": null,
   "metadata": {},
   "outputs": [],
   "source": [
    "display(data.shape)\n",
    "display(data.describe())"
   ]
  },
  {
   "attachments": {},
   "cell_type": "markdown",
   "metadata": {},
   "source": [
    "Remove rows with NaN values"
   ]
  },
  {
   "cell_type": "code",
   "execution_count": null,
   "metadata": {},
   "outputs": [],
   "source": [
    "print(\"Amount of NaN values in different columns before:\")\n",
    "display(data.isna().sum())\n",
    "\n",
    "columns_to_check = ['Age',\n",
    "                   'ЧСС (b)', \n",
    "                   'Систолическое АД(b)', \n",
    "                   'Креатинин',\n",
    "                   'EF%', \n",
    "                   'Лейкоциты(b)',  \n",
    "                   'Глюкоза(a)']\n",
    "data_no_nan = data.dropna(subset=columns_to_check)\n",
    "print(\"Amount of NaN values in different columns after:\")\n",
    "display(data_no_nan.isna().sum())"
   ]
  },
  {
   "attachments": {},
   "cell_type": "markdown",
   "metadata": {},
   "source": [
    "Parsing date-time columns into date-time format."
   ]
  },
  {
   "cell_type": "code",
   "execution_count": null,
   "metadata": {},
   "outputs": [],
   "source": [
    "data_no_nan_copy = data_no_nan.copy()\n",
    "for col_name in ['Дата операции в БД', 'дата выписки', 'дата смерти']:\n",
    "    new_col_name = f\"{col_name}_parsed\"\n",
    "    data_no_nan_copy[new_col_name] = pd.to_datetime(data_no_nan_copy[col_name], errors='coerce')"
   ]
  },
  {
   "attachments": {},
   "cell_type": "markdown",
   "metadata": {},
   "source": [
    "Now checking 'дата смерти' and 'Исход заболевания' for inconsistent values."
   ]
  },
  {
   "cell_type": "code",
   "execution_count": null,
   "metadata": {},
   "outputs": [],
   "source": [
    "query_expression = \"(not `дата смерти`.isnull() and `Исход заболевания` != 'умер')\"\n",
    "data_no_nan_copy.query(query_expression)"
   ]
  },
  {
   "attachments": {},
   "cell_type": "markdown",
   "metadata": {},
   "source": [
    "Drop this row."
   ]
  },
  {
   "cell_type": "code",
   "execution_count": null,
   "metadata": {},
   "outputs": [],
   "source": [
    "# Applying De Morgan's laws to the query\n",
    "query_expression_2 = \"(`дата смерти`.isnull() or `Исход заболевания` == 'умер')\"\n",
    "# Drop rows that satisfy the query expression\n",
    "display(data_no_nan_copy.shape)\n",
    "clean_data = data_no_nan_copy.query(query_expression_2)\n",
    "display(clean_data.shape)"
   ]
  },
  {
   "attachments": {},
   "cell_type": "markdown",
   "metadata": {},
   "source": [
    "Keeping only death cases within 55 days from the operation date.\n",
    "\n",
    "Note: If there is no information about \"Дата смерти\", but \"Исход заболевания\" is \"умер\", we will consider the date from \"Дата выписки\" as the day of death."
   ]
  },
  {
   "cell_type": "code",
   "execution_count": null,
   "metadata": {},
   "outputs": [],
   "source": [
    "mask = (\n",
    "    (clean_data['дата смерти_parsed'].notna()) & \n",
    "                (clean_data['дата смерти_parsed'] - clean_data['Дата операции в БД_parsed'] > pd.Timedelta('55 days'))\n",
    "    | ((clean_data['дата смерти_parsed'].isna()) & \n",
    "                (clean_data['Исход заболевания'] == 'умер') & \n",
    "                (clean_data['дата выписки_parsed'].notna()) & \n",
    "                (clean_data['дата выписки_parsed'] - clean_data['Дата операции в БД_parsed'] > pd.Timedelta('55 days'))\n",
    "        )\n",
    ")\n",
    "\n",
    "rows_to_keep = ~mask"
   ]
  },
  {
   "cell_type": "code",
   "execution_count": null,
   "metadata": {},
   "outputs": [],
   "source": [
    "print(f\"Rows to drop: {clean_data[mask].shape[0]}\")\n",
    "ready_data = clean_data[rows_to_keep]\n",
    "print(f\"Rows left in the dataset: {ready_data.shape[0]}\")"
   ]
  },
  {
   "cell_type": "code",
   "execution_count": null,
   "metadata": {},
   "outputs": [],
   "source": [
    "renamed_df = ready_data.rename(columns={ \n",
    "        'ОССН KiLLip': \"CHF KiLLip\",\n",
    "        'ЧСС (b)': \"HBR (b)\", \n",
    "        'Систолическое АД(b)': \"Systolic AP(b)\", \n",
    "        'Креатинин': \"Creatinine in blood\", \n",
    "        'EF%': \"EF Percentage\", \n",
    "        'Лейкоциты(b)': \"White blood cells count\", \n",
    "        'Глюкоза(a)': \"Glucose\",\n",
    "        'Исход заболевания': 'Class'\n",
    "    })\n",
    "renamed_df['Class'] = renamed_df['Class'].apply(lambda x: 1 if x == 'умер' else 0) "
   ]
  },
  {
   "cell_type": "code",
   "execution_count": null,
   "metadata": {},
   "outputs": [],
   "source": [
    "features = [\"Age\", \"CHF KiLLip\", \"HBR (b)\", \"Systolic AP(b)\", \"Creatinine in blood\", \"EF Percentage\", \"White blood cells count\", \"Glucose\", \"Class\"]\n",
    "\n",
    "final_df = renamed_df[features]"
   ]
  },
  {
   "cell_type": "code",
   "execution_count": null,
   "metadata": {},
   "outputs": [],
   "source": [
    "final_df.describe()"
   ]
  },
  {
   "cell_type": "code",
   "execution_count": null,
   "metadata": {},
   "outputs": [],
   "source": [
    "final_df.to_csv('import/dataset_prepared.csv', index=False)"
   ]
  },
  {
   "cell_type": "code",
   "execution_count": null,
   "metadata": {},
   "outputs": [],
   "source": [
    "plt.figure(figsize = (8,4), dpi=100)\n",
    "ax = plt.axes()\n",
    "sns.heatmap(final_df.corr(), annot = True, cmap='RdBu', ax=ax)\n",
    "ax.set_title('Correlation Matrix', weight='bold')\n",
    "plt.show()"
   ]
  },
  {
   "cell_type": "code",
   "execution_count": null,
   "metadata": {},
   "outputs": [],
   "source": [
    "neg, pos = np.bincount(final_df['Class'])\n",
    "total = neg + pos\n",
    "print('Examples:\\n    Total: {}\\n    Positive: {} ({:.2f}% of total)\\n'.format(\n",
    "    total, pos, 100 * pos / total))"
   ]
  },
  {
   "cell_type": "markdown",
   "metadata": {},
   "source": [
    "Detecting and removing outliers"
   ]
  },
  {
   "cell_type": "code",
   "execution_count": null,
   "metadata": {},
   "outputs": [],
   "source": [
    "print(final_df.columns)"
   ]
  },
  {
   "cell_type": "code",
   "execution_count": null,
   "metadata": {},
   "outputs": [],
   "source": [
    "# Dynamically create a figure to hold the subplots based on the number of features\n",
    "fig, axs = plt.subplots(len(features), 1, figsize=(10, 2*len(features)))  # Adjust the size as needed\n",
    "\n",
    "# Loop through the features and create a boxplot for each\n",
    "for i, feature in enumerate(features):\n",
    "    sns.boxplot(x=final_df[feature], ax=axs[i], orient='h', palette=\"Set2\")\n",
    "    axs[i].set_title(feature)\n",
    "\n",
    "plt.tight_layout()\n",
    "plt.show()"
   ]
  },
  {
   "attachments": {},
   "cell_type": "markdown",
   "metadata": {},
   "source": [
    "As a part of an experiment we want to consider Killip classes as categorical type."
   ]
  },
  {
   "cell_type": "code",
   "execution_count": null,
   "metadata": {},
   "outputs": [],
   "source": [
    "final_df['CHF KiLLip'].value_counts()"
   ]
  },
  {
   "cell_type": "code",
   "execution_count": null,
   "metadata": {},
   "outputs": [],
   "source": [
    "pd.crosstab(index=final_df[\"CHF KiLLip\"], columns=final_df[\"Class\"])"
   ]
  },
  {
   "cell_type": "markdown",
   "metadata": {},
   "source": [
    "### Categorical Data Encoding"
   ]
  },
  {
   "cell_type": "code",
   "execution_count": null,
   "metadata": {},
   "outputs": [],
   "source": [
    "final_df = pd.get_dummies(final_df, drop_first=True, columns=['CHF KiLLip'])\n",
    "final_df.describe()"
   ]
  },
  {
   "cell_type": "code",
   "execution_count": null,
   "metadata": {},
   "outputs": [],
   "source": [
    "final_df.to_csv('import/dataset_prepared_KiLLip_encoded.csv', index=False)"
   ]
  },
  {
   "cell_type": "code",
   "execution_count": null,
   "metadata": {},
   "outputs": [],
   "source": [
    "plt.figure(figsize = (12,4), dpi=100)\n",
    "ax = plt.axes()\n",
    "sns.heatmap(final_df.corr(), annot = True, cmap='RdBu', ax=ax)\n",
    "ax.set_title('Correlation Matrix', weight='bold')\n",
    "plt.show()"
   ]
  },
  {
   "cell_type": "markdown",
   "metadata": {},
   "source": [
    "## Pairplot"
   ]
  },
  {
   "cell_type": "markdown",
   "metadata": {},
   "source": [
    "Due to the amount of features, we devide the pairplot into four quarters: top left, top right, bottom left, bottom right. And display two of them: top left and bottom left, because bottom right cosists of categorical types (KiLLip)."
   ]
  },
  {
   "cell_type": "markdown",
   "metadata": {},
   "source": [
    "## Top left"
   ]
  },
  {
   "cell_type": "code",
   "execution_count": null,
   "metadata": {},
   "outputs": [],
   "source": [
    "sns.pairplot(pd.concat([final_df[final_df[\"Class\"] != 1], final_df[final_df[\"Class\"] == 1]]), \n",
    "            x_vars = [\"Age\", \"HBR (b)\", \"Systolic AP(b)\", \"Creatinine in blood\", \"EF Percentage\", \n",
    "                 \"White blood cells count\"],\n",
    "            y_vars=[\"Age\", \"HBR (b)\", \"Systolic AP(b)\", \"Creatinine in blood\", \"EF Percentage\", \n",
    "                 \"White blood cells count\"],\n",
    "             hue=\"Class\", diag_kind='kde',\n",
    "             plot_kws = {'marker':'o', 'alpha': 0.8, 's': 80, 'edgecolor': 'k'},\n",
    "             height = 4,\n",
    "             corner=True)"
   ]
  },
  {
   "cell_type": "markdown",
   "metadata": {},
   "source": [
    "### Bottom left"
   ]
  },
  {
   "cell_type": "code",
   "execution_count": null,
   "metadata": {},
   "outputs": [],
   "source": [
    "sns.pairplot(pd.concat([final_df[final_df[\"Class\"] != 1], final_df[final_df[\"Class\"] == 1]]), \n",
    "            x_vars = [\"Age\", \"HBR (b)\", \"Systolic AP(b)\", \"Creatinine in blood\", \"EF Percentage\", \n",
    "                 \"White blood cells count\"],\n",
    "            y_vars=[\"Glucose\"],\n",
    "             hue=\"Class\", diag_kind='kde',\n",
    "             plot_kws = {'marker':'o', 'alpha': 0.8, 's': 80, 'edgecolor': 'k'},\n",
    "             height = 4)"
   ]
  }
 ],
 "metadata": {
  "kernelspec": {
   "display_name": "Python 3 (ipykernel)",
   "language": "python",
   "name": "python3"
  },
  "language_info": {
   "codemirror_mode": {
    "name": "ipython",
    "version": 3
   },
   "file_extension": ".py",
   "mimetype": "text/x-python",
   "name": "python",
   "nbconvert_exporter": "python",
   "pygments_lexer": "ipython3",
   "version": "3.9.13"
  }
 },
 "nbformat": 4,
 "nbformat_minor": 4
}
